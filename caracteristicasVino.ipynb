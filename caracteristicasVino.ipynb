{
  "nbformat": 4,
  "nbformat_minor": 0,
  "metadata": {
    "colab": {
      "provenance": []
    },
    "kernelspec": {
      "name": "python3",
      "display_name": "Python 3"
    },
    "language_info": {
      "name": "python"
    }
  },
  "cells": [
    {
      "cell_type": "markdown",
      "source": [
        "#**Análisis y Selección de Características para la Predicción de la Calidad del Vino mediante Regresión Lineal**\n",
        "###Regina González"
      ],
      "metadata": {
        "id": "ri-06JYqcjVF"
      }
    },
    {
      "cell_type": "markdown",
      "source": [
        "Se importaron los datos del archivo “Vino_Tinto.csv” al entorno de trabajo y se verificaron sus dimensiones para conocer la cantidad de filas y columnas. También se imprimieron las primeras cinco filas del DataFrame para tener una vista general de su estructura y contenido."
      ],
      "metadata": {
        "id": "GhpGuSAaDsJP"
      }
    },
    {
      "cell_type": "code",
      "source": [
        "import pandas as pd\n",
        "import numpy as np\n",
        "data = pd.read_csv('Vino_Tinto.csv')\n",
        "print(f\"✅ Datos cargados: {data.shape[0]} filas, {data.shape[1]} columnas.\\n\")\n",
        "print(\"🔍 Primeras 15 filas:\")\n",
        "display(data.head(5))"
      ],
      "metadata": {
        "colab": {
          "base_uri": "https://localhost:8080/",
          "height": 258
        },
        "id": "5mDx0Uf5Dtds",
        "outputId": "bff6c090-3ba0-4403-f8f8-ca43b8de0b14"
      },
      "execution_count": 18,
      "outputs": [
        {
          "output_type": "stream",
          "name": "stdout",
          "text": [
            "✅ Datos cargados: 1599 filas, 12 columnas.\n",
            "\n",
            "🔍 Primeras 15 filas:\n"
          ]
        },
        {
          "output_type": "display_data",
          "data": {
            "text/plain": [
              "   acidezFija  acidezVolatil  acidoCitrico  azucarResidual  cloruros  \\\n",
              "0         7.4           0.70          0.00             1.9     0.076   \n",
              "1         7.8           0.88          0.00             2.6     0.098   \n",
              "2         7.8           0.76          0.04             2.3     0.092   \n",
              "3        11.2           0.28          0.56             1.9     0.075   \n",
              "4         7.4           0.70          0.00             1.9     0.076   \n",
              "\n",
              "   dioxidoAzufreLibre  dioxidoAzufreTotal  densidad    pH  sulfatos  alcohol  \\\n",
              "0                11.0                34.0    0.9978  3.51      0.56      9.4   \n",
              "1                25.0                67.0    0.9968  3.20      0.68      9.8   \n",
              "2                15.0                54.0    0.9970  3.26      0.65      9.8   \n",
              "3                17.0                60.0    0.9980  3.16      0.58      9.8   \n",
              "4                11.0                34.0    0.9978  3.51      0.56      9.4   \n",
              "\n",
              "   calidad  \n",
              "0        5  \n",
              "1        5  \n",
              "2        5  \n",
              "3        6  \n",
              "4        5  "
            ],
            "text/html": [
              "\n",
              "  <div id=\"df-3898fc0e-3891-4f77-9620-e80d3fd12c53\" class=\"colab-df-container\">\n",
              "    <div>\n",
              "<style scoped>\n",
              "    .dataframe tbody tr th:only-of-type {\n",
              "        vertical-align: middle;\n",
              "    }\n",
              "\n",
              "    .dataframe tbody tr th {\n",
              "        vertical-align: top;\n",
              "    }\n",
              "\n",
              "    .dataframe thead th {\n",
              "        text-align: right;\n",
              "    }\n",
              "</style>\n",
              "<table border=\"1\" class=\"dataframe\">\n",
              "  <thead>\n",
              "    <tr style=\"text-align: right;\">\n",
              "      <th></th>\n",
              "      <th>acidezFija</th>\n",
              "      <th>acidezVolatil</th>\n",
              "      <th>acidoCitrico</th>\n",
              "      <th>azucarResidual</th>\n",
              "      <th>cloruros</th>\n",
              "      <th>dioxidoAzufreLibre</th>\n",
              "      <th>dioxidoAzufreTotal</th>\n",
              "      <th>densidad</th>\n",
              "      <th>pH</th>\n",
              "      <th>sulfatos</th>\n",
              "      <th>alcohol</th>\n",
              "      <th>calidad</th>\n",
              "    </tr>\n",
              "  </thead>\n",
              "  <tbody>\n",
              "    <tr>\n",
              "      <th>0</th>\n",
              "      <td>7.4</td>\n",
              "      <td>0.70</td>\n",
              "      <td>0.00</td>\n",
              "      <td>1.9</td>\n",
              "      <td>0.076</td>\n",
              "      <td>11.0</td>\n",
              "      <td>34.0</td>\n",
              "      <td>0.9978</td>\n",
              "      <td>3.51</td>\n",
              "      <td>0.56</td>\n",
              "      <td>9.4</td>\n",
              "      <td>5</td>\n",
              "    </tr>\n",
              "    <tr>\n",
              "      <th>1</th>\n",
              "      <td>7.8</td>\n",
              "      <td>0.88</td>\n",
              "      <td>0.00</td>\n",
              "      <td>2.6</td>\n",
              "      <td>0.098</td>\n",
              "      <td>25.0</td>\n",
              "      <td>67.0</td>\n",
              "      <td>0.9968</td>\n",
              "      <td>3.20</td>\n",
              "      <td>0.68</td>\n",
              "      <td>9.8</td>\n",
              "      <td>5</td>\n",
              "    </tr>\n",
              "    <tr>\n",
              "      <th>2</th>\n",
              "      <td>7.8</td>\n",
              "      <td>0.76</td>\n",
              "      <td>0.04</td>\n",
              "      <td>2.3</td>\n",
              "      <td>0.092</td>\n",
              "      <td>15.0</td>\n",
              "      <td>54.0</td>\n",
              "      <td>0.9970</td>\n",
              "      <td>3.26</td>\n",
              "      <td>0.65</td>\n",
              "      <td>9.8</td>\n",
              "      <td>5</td>\n",
              "    </tr>\n",
              "    <tr>\n",
              "      <th>3</th>\n",
              "      <td>11.2</td>\n",
              "      <td>0.28</td>\n",
              "      <td>0.56</td>\n",
              "      <td>1.9</td>\n",
              "      <td>0.075</td>\n",
              "      <td>17.0</td>\n",
              "      <td>60.0</td>\n",
              "      <td>0.9980</td>\n",
              "      <td>3.16</td>\n",
              "      <td>0.58</td>\n",
              "      <td>9.8</td>\n",
              "      <td>6</td>\n",
              "    </tr>\n",
              "    <tr>\n",
              "      <th>4</th>\n",
              "      <td>7.4</td>\n",
              "      <td>0.70</td>\n",
              "      <td>0.00</td>\n",
              "      <td>1.9</td>\n",
              "      <td>0.076</td>\n",
              "      <td>11.0</td>\n",
              "      <td>34.0</td>\n",
              "      <td>0.9978</td>\n",
              "      <td>3.51</td>\n",
              "      <td>0.56</td>\n",
              "      <td>9.4</td>\n",
              "      <td>5</td>\n",
              "    </tr>\n",
              "  </tbody>\n",
              "</table>\n",
              "</div>\n",
              "    <div class=\"colab-df-buttons\">\n",
              "\n",
              "  <div class=\"colab-df-container\">\n",
              "    <button class=\"colab-df-convert\" onclick=\"convertToInteractive('df-3898fc0e-3891-4f77-9620-e80d3fd12c53')\"\n",
              "            title=\"Convert this dataframe to an interactive table.\"\n",
              "            style=\"display:none;\">\n",
              "\n",
              "  <svg xmlns=\"http://www.w3.org/2000/svg\" height=\"24px\" viewBox=\"0 -960 960 960\">\n",
              "    <path d=\"M120-120v-720h720v720H120Zm60-500h600v-160H180v160Zm220 220h160v-160H400v160Zm0 220h160v-160H400v160ZM180-400h160v-160H180v160Zm440 0h160v-160H620v160ZM180-180h160v-160H180v160Zm440 0h160v-160H620v160Z\"/>\n",
              "  </svg>\n",
              "    </button>\n",
              "\n",
              "  <style>\n",
              "    .colab-df-container {\n",
              "      display:flex;\n",
              "      gap: 12px;\n",
              "    }\n",
              "\n",
              "    .colab-df-convert {\n",
              "      background-color: #E8F0FE;\n",
              "      border: none;\n",
              "      border-radius: 50%;\n",
              "      cursor: pointer;\n",
              "      display: none;\n",
              "      fill: #1967D2;\n",
              "      height: 32px;\n",
              "      padding: 0 0 0 0;\n",
              "      width: 32px;\n",
              "    }\n",
              "\n",
              "    .colab-df-convert:hover {\n",
              "      background-color: #E2EBFA;\n",
              "      box-shadow: 0px 1px 2px rgba(60, 64, 67, 0.3), 0px 1px 3px 1px rgba(60, 64, 67, 0.15);\n",
              "      fill: #174EA6;\n",
              "    }\n",
              "\n",
              "    .colab-df-buttons div {\n",
              "      margin-bottom: 4px;\n",
              "    }\n",
              "\n",
              "    [theme=dark] .colab-df-convert {\n",
              "      background-color: #3B4455;\n",
              "      fill: #D2E3FC;\n",
              "    }\n",
              "\n",
              "    [theme=dark] .colab-df-convert:hover {\n",
              "      background-color: #434B5C;\n",
              "      box-shadow: 0px 1px 3px 1px rgba(0, 0, 0, 0.15);\n",
              "      filter: drop-shadow(0px 1px 2px rgba(0, 0, 0, 0.3));\n",
              "      fill: #FFFFFF;\n",
              "    }\n",
              "  </style>\n",
              "\n",
              "    <script>\n",
              "      const buttonEl =\n",
              "        document.querySelector('#df-3898fc0e-3891-4f77-9620-e80d3fd12c53 button.colab-df-convert');\n",
              "      buttonEl.style.display =\n",
              "        google.colab.kernel.accessAllowed ? 'block' : 'none';\n",
              "\n",
              "      async function convertToInteractive(key) {\n",
              "        const element = document.querySelector('#df-3898fc0e-3891-4f77-9620-e80d3fd12c53');\n",
              "        const dataTable =\n",
              "          await google.colab.kernel.invokeFunction('convertToInteractive',\n",
              "                                                    [key], {});\n",
              "        if (!dataTable) return;\n",
              "\n",
              "        const docLinkHtml = 'Like what you see? Visit the ' +\n",
              "          '<a target=\"_blank\" href=https://colab.research.google.com/notebooks/data_table.ipynb>data table notebook</a>'\n",
              "          + ' to learn more about interactive tables.';\n",
              "        element.innerHTML = '';\n",
              "        dataTable['output_type'] = 'display_data';\n",
              "        await google.colab.output.renderOutput(dataTable, element);\n",
              "        const docLink = document.createElement('div');\n",
              "        docLink.innerHTML = docLinkHtml;\n",
              "        element.appendChild(docLink);\n",
              "      }\n",
              "    </script>\n",
              "  </div>\n",
              "\n",
              "\n",
              "<div id=\"df-13afdc9f-3630-44ff-9aff-7cf5a214d58b\">\n",
              "  <button class=\"colab-df-quickchart\" onclick=\"quickchart('df-13afdc9f-3630-44ff-9aff-7cf5a214d58b')\"\n",
              "            title=\"Suggest charts\"\n",
              "            style=\"display:none;\">\n",
              "\n",
              "<svg xmlns=\"http://www.w3.org/2000/svg\" height=\"24px\"viewBox=\"0 0 24 24\"\n",
              "     width=\"24px\">\n",
              "    <g>\n",
              "        <path d=\"M19 3H5c-1.1 0-2 .9-2 2v14c0 1.1.9 2 2 2h14c1.1 0 2-.9 2-2V5c0-1.1-.9-2-2-2zM9 17H7v-7h2v7zm4 0h-2V7h2v10zm4 0h-2v-4h2v4z\"/>\n",
              "    </g>\n",
              "</svg>\n",
              "  </button>\n",
              "\n",
              "<style>\n",
              "  .colab-df-quickchart {\n",
              "      --bg-color: #E8F0FE;\n",
              "      --fill-color: #1967D2;\n",
              "      --hover-bg-color: #E2EBFA;\n",
              "      --hover-fill-color: #174EA6;\n",
              "      --disabled-fill-color: #AAA;\n",
              "      --disabled-bg-color: #DDD;\n",
              "  }\n",
              "\n",
              "  [theme=dark] .colab-df-quickchart {\n",
              "      --bg-color: #3B4455;\n",
              "      --fill-color: #D2E3FC;\n",
              "      --hover-bg-color: #434B5C;\n",
              "      --hover-fill-color: #FFFFFF;\n",
              "      --disabled-bg-color: #3B4455;\n",
              "      --disabled-fill-color: #666;\n",
              "  }\n",
              "\n",
              "  .colab-df-quickchart {\n",
              "    background-color: var(--bg-color);\n",
              "    border: none;\n",
              "    border-radius: 50%;\n",
              "    cursor: pointer;\n",
              "    display: none;\n",
              "    fill: var(--fill-color);\n",
              "    height: 32px;\n",
              "    padding: 0;\n",
              "    width: 32px;\n",
              "  }\n",
              "\n",
              "  .colab-df-quickchart:hover {\n",
              "    background-color: var(--hover-bg-color);\n",
              "    box-shadow: 0 1px 2px rgba(60, 64, 67, 0.3), 0 1px 3px 1px rgba(60, 64, 67, 0.15);\n",
              "    fill: var(--button-hover-fill-color);\n",
              "  }\n",
              "\n",
              "  .colab-df-quickchart-complete:disabled,\n",
              "  .colab-df-quickchart-complete:disabled:hover {\n",
              "    background-color: var(--disabled-bg-color);\n",
              "    fill: var(--disabled-fill-color);\n",
              "    box-shadow: none;\n",
              "  }\n",
              "\n",
              "  .colab-df-spinner {\n",
              "    border: 2px solid var(--fill-color);\n",
              "    border-color: transparent;\n",
              "    border-bottom-color: var(--fill-color);\n",
              "    animation:\n",
              "      spin 1s steps(1) infinite;\n",
              "  }\n",
              "\n",
              "  @keyframes spin {\n",
              "    0% {\n",
              "      border-color: transparent;\n",
              "      border-bottom-color: var(--fill-color);\n",
              "      border-left-color: var(--fill-color);\n",
              "    }\n",
              "    20% {\n",
              "      border-color: transparent;\n",
              "      border-left-color: var(--fill-color);\n",
              "      border-top-color: var(--fill-color);\n",
              "    }\n",
              "    30% {\n",
              "      border-color: transparent;\n",
              "      border-left-color: var(--fill-color);\n",
              "      border-top-color: var(--fill-color);\n",
              "      border-right-color: var(--fill-color);\n",
              "    }\n",
              "    40% {\n",
              "      border-color: transparent;\n",
              "      border-right-color: var(--fill-color);\n",
              "      border-top-color: var(--fill-color);\n",
              "    }\n",
              "    60% {\n",
              "      border-color: transparent;\n",
              "      border-right-color: var(--fill-color);\n",
              "    }\n",
              "    80% {\n",
              "      border-color: transparent;\n",
              "      border-right-color: var(--fill-color);\n",
              "      border-bottom-color: var(--fill-color);\n",
              "    }\n",
              "    90% {\n",
              "      border-color: transparent;\n",
              "      border-bottom-color: var(--fill-color);\n",
              "    }\n",
              "  }\n",
              "</style>\n",
              "\n",
              "  <script>\n",
              "    async function quickchart(key) {\n",
              "      const quickchartButtonEl =\n",
              "        document.querySelector('#' + key + ' button');\n",
              "      quickchartButtonEl.disabled = true;  // To prevent multiple clicks.\n",
              "      quickchartButtonEl.classList.add('colab-df-spinner');\n",
              "      try {\n",
              "        const charts = await google.colab.kernel.invokeFunction(\n",
              "            'suggestCharts', [key], {});\n",
              "      } catch (error) {\n",
              "        console.error('Error during call to suggestCharts:', error);\n",
              "      }\n",
              "      quickchartButtonEl.classList.remove('colab-df-spinner');\n",
              "      quickchartButtonEl.classList.add('colab-df-quickchart-complete');\n",
              "    }\n",
              "    (() => {\n",
              "      let quickchartButtonEl =\n",
              "        document.querySelector('#df-13afdc9f-3630-44ff-9aff-7cf5a214d58b button');\n",
              "      quickchartButtonEl.style.display =\n",
              "        google.colab.kernel.accessAllowed ? 'block' : 'none';\n",
              "    })();\n",
              "  </script>\n",
              "</div>\n",
              "\n",
              "    </div>\n",
              "  </div>\n"
            ],
            "application/vnd.google.colaboratory.intrinsic+json": {
              "type": "dataframe",
              "summary": "{\n  \"name\": \"display(data\",\n  \"rows\": 5,\n  \"fields\": [\n    {\n      \"column\": \"acidezFija\",\n      \"properties\": {\n        \"dtype\": \"number\",\n        \"std\": 1.6223439832538593,\n        \"min\": 7.4,\n        \"max\": 11.2,\n        \"num_unique_values\": 3,\n        \"samples\": [\n          7.4,\n          7.8,\n          11.2\n        ],\n        \"semantic_type\": \"\",\n        \"description\": \"\"\n      }\n    },\n    {\n      \"column\": \"acidezVolatil\",\n      \"properties\": {\n        \"dtype\": \"number\",\n        \"std\": 0.22689204481426842,\n        \"min\": 0.28,\n        \"max\": 0.88,\n        \"num_unique_values\": 4,\n        \"samples\": [\n          0.88,\n          0.28,\n          0.7\n        ],\n        \"semantic_type\": \"\",\n        \"description\": \"\"\n      }\n    },\n    {\n      \"column\": \"acidoCitrico\",\n      \"properties\": {\n        \"dtype\": \"number\",\n        \"std\": 0.24657656011875909,\n        \"min\": 0.0,\n        \"max\": 0.56,\n        \"num_unique_values\": 3,\n        \"samples\": [\n          0.0,\n          0.04,\n          0.56\n        ],\n        \"semantic_type\": \"\",\n        \"description\": \"\"\n      }\n    },\n    {\n      \"column\": \"azucarResidual\",\n      \"properties\": {\n        \"dtype\": \"number\",\n        \"std\": 0.31937438845342636,\n        \"min\": 1.9,\n        \"max\": 2.6,\n        \"num_unique_values\": 3,\n        \"samples\": [\n          1.9,\n          2.6,\n          2.3\n        ],\n        \"semantic_type\": \"\",\n        \"description\": \"\"\n      }\n    },\n    {\n      \"column\": \"cloruros\",\n      \"properties\": {\n        \"dtype\": \"number\",\n        \"std\": 0.010807404868885038,\n        \"min\": 0.075,\n        \"max\": 0.098,\n        \"num_unique_values\": 4,\n        \"samples\": [\n          0.098,\n          0.075,\n          0.076\n        ],\n        \"semantic_type\": \"\",\n        \"description\": \"\"\n      }\n    },\n    {\n      \"column\": \"dioxidoAzufreLibre\",\n      \"properties\": {\n        \"dtype\": \"number\",\n        \"std\": 5.761944116355173,\n        \"min\": 11.0,\n        \"max\": 25.0,\n        \"num_unique_values\": 4,\n        \"samples\": [\n          25.0,\n          17.0,\n          11.0\n        ],\n        \"semantic_type\": \"\",\n        \"description\": \"\"\n      }\n    },\n    {\n      \"column\": \"dioxidoAzufreTotal\",\n      \"properties\": {\n        \"dtype\": \"number\",\n        \"std\": 15.139352694220449,\n        \"min\": 34.0,\n        \"max\": 67.0,\n        \"num_unique_values\": 4,\n        \"samples\": [\n          67.0,\n          60.0,\n          34.0\n        ],\n        \"semantic_type\": \"\",\n        \"description\": \"\"\n      }\n    },\n    {\n      \"column\": \"densidad\",\n      \"properties\": {\n        \"dtype\": \"number\",\n        \"std\": 0.0005403702434442519,\n        \"min\": 0.9968,\n        \"max\": 0.998,\n        \"num_unique_values\": 4,\n        \"samples\": [\n          0.9968,\n          0.998,\n          0.9978\n        ],\n        \"semantic_type\": \"\",\n        \"description\": \"\"\n      }\n    },\n    {\n      \"column\": \"pH\",\n      \"properties\": {\n        \"dtype\": \"number\",\n        \"std\": 0.16991174179555674,\n        \"min\": 3.16,\n        \"max\": 3.51,\n        \"num_unique_values\": 4,\n        \"samples\": [\n          3.2,\n          3.16,\n          3.51\n        ],\n        \"semantic_type\": \"\",\n        \"description\": \"\"\n      }\n    },\n    {\n      \"column\": \"sulfatos\",\n      \"properties\": {\n        \"dtype\": \"number\",\n        \"std\": 0.05549774770204643,\n        \"min\": 0.56,\n        \"max\": 0.68,\n        \"num_unique_values\": 4,\n        \"samples\": [\n          0.68,\n          0.58,\n          0.56\n        ],\n        \"semantic_type\": \"\",\n        \"description\": \"\"\n      }\n    },\n    {\n      \"column\": \"alcohol\",\n      \"properties\": {\n        \"dtype\": \"number\",\n        \"std\": 0.21908902300206665,\n        \"min\": 9.4,\n        \"max\": 9.8,\n        \"num_unique_values\": 2,\n        \"samples\": [\n          9.8,\n          9.4\n        ],\n        \"semantic_type\": \"\",\n        \"description\": \"\"\n      }\n    },\n    {\n      \"column\": \"calidad\",\n      \"properties\": {\n        \"dtype\": \"number\",\n        \"std\": 0,\n        \"min\": 5,\n        \"max\": 6,\n        \"num_unique_values\": 2,\n        \"samples\": [\n          6,\n          5\n        ],\n        \"semantic_type\": \"\",\n        \"description\": \"\"\n      }\n    }\n  ]\n}"
            }
          },
          "metadata": {}
        }
      ]
    },
    {
      "cell_type": "markdown",
      "source": [
        "Se dividió el DataFrame en conjuntos de entrenamiento y prueba con una proporción 80/20, asegurando que la partición fuera aleatoria para evitar sesgos. Luego, se imprimieron las dimensiones de ambos conjuntos para confirmar que la suma de sus observaciones coincidiera con el total de datos originales."
      ],
      "metadata": {
        "id": "79V8LjqrE4PP"
      }
    },
    {
      "cell_type": "code",
      "source": [
        "from sklearn.model_selection import train_test_split\n",
        "\n",
        "train, test = train_test_split(data, test_size=0.2, random_state=42)\n",
        "\n",
        "print(f\"📊 Dimensiones del conjunto de entrenamiento: {train.shape}\")\n",
        "print(f\"📊 Dimensiones del conjunto de validación: {test.shape}\")\n",
        "\n",
        "if train.shape[0] + test.shape[0] == data.shape[0]:\n",
        "    print(\"✅ La división de datos es correcta: la suma coincide con el total de observaciones.\")\n",
        "else:\n",
        "    print(\"⚠️ Advertencia: La suma de los datos de entrenamiento y validación no coincide con el total de observaciones.\")"
      ],
      "metadata": {
        "colab": {
          "base_uri": "https://localhost:8080/"
        },
        "id": "G9zbkc7KE65U",
        "outputId": "f8e25cdd-8bc9-428b-afac-597921ebcd54"
      },
      "execution_count": 19,
      "outputs": [
        {
          "output_type": "stream",
          "name": "stdout",
          "text": [
            "📊 Dimensiones del conjunto de entrenamiento: (1279, 12)\n",
            "📊 Dimensiones del conjunto de validación: (320, 12)\n",
            "✅ La división de datos es correcta: la suma coincide con el total de observaciones.\n"
          ]
        }
      ]
    },
    {
      "cell_type": "markdown",
      "source": [
        "Se utilizó la librería `SequentialFeatureSelector` de `mlxtend.feature_selection` para realizar una selección hacia adelante de características, con un modelo de regresión lineal como estimador. El parámetro `k_features` se configuró como un rango de (2,8), lo que permitió que el algoritmo seleccionara entre 2 y 8 características. Se configuró la selección como hacia adelante (`forward=True`), y la métrica de evaluación fue la R cuadrada (`scoring='r2'`). Para la validación cruzada, se especificó que se realizaran 10 pliegues (`cv=10`). Luego, se entrenó el modelo y se extrajeron los índices y nombres de las características seleccionadas, que se imprimieron en consola."
      ],
      "metadata": {
        "id": "ZM6zfzoQFVSf"
      }
    },
    {
      "cell_type": "code",
      "source": [
        "from mlxtend.feature_selection import SequentialFeatureSelector as SFS\n",
        "from sklearn.linear_model import LinearRegression\n",
        "from sklearn.metrics import r2_score\n",
        "\n",
        "train_x = train.drop('calidad', axis=1)\n",
        "train_y = train['calidad']\n",
        "\n",
        "est = LinearRegression()\n",
        "\n",
        "# Aplicar selección de características hacia adelante\n",
        "sfs = SFS(est,\n",
        "          k_features=(2, 8),\n",
        "          forward=True,\n",
        "          scoring='r2',\n",
        "          cv=10)\n",
        "\n",
        "# Ajustar el modelo a los datos\n",
        "sfs= sfs.fit(train_x, train_y)\n",
        "\n",
        "# Obtener los índices de las características seleccionadas\n",
        "selected_features_idx = list(sfs.k_feature_idx_)\n",
        "\n",
        "# Obtener los nombres de las características seleccionadas\n",
        "selected_features_names = list(sfs.k_feature_names_)\n",
        "\n",
        "# Imprimir los resultados\n",
        "print(\"Índices de las características seleccionadas:\", selected_features_idx)\n",
        "print(\"Nombres de las características seleccionadas:\", selected_features_names)\n"
      ],
      "metadata": {
        "colab": {
          "base_uri": "https://localhost:8080/"
        },
        "id": "1gWr6_LxFdqE",
        "outputId": "ad881e73-e6d8-4a77-95a8-6acf67556287"
      },
      "execution_count": 20,
      "outputs": [
        {
          "output_type": "stream",
          "name": "stdout",
          "text": [
            "Índices de las características seleccionadas: [1, 4, 5, 6, 8, 9, 10]\n",
            "Nombres de las características seleccionadas: ['acidezVolatil', 'cloruros', 'dioxidoAzufreLibre', 'dioxidoAzufreTotal', 'pH', 'sulfatos', 'alcohol']\n"
          ]
        }
      ]
    },
    {
      "cell_type": "markdown",
      "source": [
        "Se entrenó un modelo de regresión lineal utilizando únicamente las características seleccionadas en el paso anterior. Para ello, se extrajeron las columnas correspondientes de los datos de entrenamiento, asegurándose de no incluir variables no seleccionadas. Luego, el modelo se entrenó con esas variables mediante la función `fit`. Posteriormente, se hicieron predicciones sobre el conjunto de prueba, donde también se filtraron las características seleccionadas. Finalmente, se utilizó la función `r2_score` de `sklearn.metrics` para medir la capacidad de predicción del modelo, calculando y mostrando el valor de R cuadrada en consola."
      ],
      "metadata": {
        "id": "5crH-p-5IAwf"
      }
    },
    {
      "cell_type": "code",
      "source": [
        "test_x = test.drop('calidad', axis=1)\n",
        "test_y = test['calidad']\n",
        "\n",
        "# Filtrar las variables seleccionadas en los datos de entrenamiento y prueba\n",
        "train_x_selected = train_x[list(sfs.k_feature_names_)]\n",
        "test_x_selected = test_x[list(sfs.k_feature_names_)]\n",
        "\n",
        "# Entrenar el modelo con las variables seleccionadas\n",
        "est.fit(train_x_selected, train_y)\n",
        "\n",
        "# Hacer predicciones en los datos de prueba\n",
        "y_pred = est.predict(test_x_selected)\n",
        "\n",
        "r2_forward = r2_score(test_y, y_pred)\n",
        "print(\"R² del modelo con selección hacia adelante:\", r2_forward)"
      ],
      "metadata": {
        "colab": {
          "base_uri": "https://localhost:8080/"
        },
        "id": "M2tg8T7tIDXh",
        "outputId": "f031e2b2-376b-404c-f458-4313fc5ce221"
      },
      "execution_count": 21,
      "outputs": [
        {
          "output_type": "stream",
          "name": "stdout",
          "text": [
            "R² del modelo con selección hacia adelante: 0.4012628835440285\n"
          ]
        }
      ]
    },
    {
      "cell_type": "markdown",
      "source": [
        "Se llevó a cabo un proceso de selección hacia atrás utilizando las variables previamente seleccionadas en el paso de selección hacia adelante. Para ello, se aplicó la función `SequentialFeatureSelector` de la librería `mlxtend.feature_selection`, pero esta vez con el parámetro `forward=False`, lo que indica que se debía realizar la selección hacia atrás. Además, se definió el parámetro `k_features=(2, 5)` para restringir la cantidad de variables seleccionadas a un rango entre 2 y 5. Una vez ajustado el modelo con estas características, se obtuvieron tanto los índices como los nombres de las variables seleccionadas. Finalmente, se imprimieron en consola los resultados obtenidos, mostrando qué variables fueron elegidas tras la selección hacia atrás."
      ],
      "metadata": {
        "id": "Id0vmLPVK42T"
      }
    },
    {
      "cell_type": "code",
      "source": [
        "sfs_b = SFS(est,\n",
        "          k_features=(2, 5),\n",
        "          forward=False,\n",
        "          scoring='r2',\n",
        "          cv=10)\n",
        "\n",
        "# Ajustar el modelo a los datos\n",
        "sfs_b.fit(train_x, train_y)\n",
        "\n",
        "# Obtener los índices de las características seleccionadas\n",
        "selected_features_idx_b = list(sfs_b.k_feature_idx_)\n",
        "\n",
        "# Obtener los nombres de las características seleccionadas\n",
        "selected_features_names_b = list(sfs_b.k_feature_names_)\n",
        "\n",
        "# Imprimir los resultados\n",
        "print(\"Índices de las características seleccionadas:\", selected_features_idx_b)\n",
        "print(\"Nombres de las características seleccionadas:\", selected_features_names_b)"
      ],
      "metadata": {
        "colab": {
          "base_uri": "https://localhost:8080/"
        },
        "id": "XGk5WzFXK8qh",
        "outputId": "80a63702-beaf-4e5f-b67a-c1d6d9c6b1b6"
      },
      "execution_count": 22,
      "outputs": [
        {
          "output_type": "stream",
          "name": "stdout",
          "text": [
            "Índices de las características seleccionadas: [1, 4, 6, 9, 10]\n",
            "Nombres de las características seleccionadas: ['acidezVolatil', 'cloruros', 'dioxidoAzufreTotal', 'sulfatos', 'alcohol']\n"
          ]
        }
      ]
    },
    {
      "cell_type": "markdown",
      "source": [
        "Se repitió el proceso de entrenamiento y evaluación para el modelo utilizando únicamente las variables seleccionadas en el paso de selección hacia atrás. Se ajustó el modelo de regresión lineal a los datos de entrenamiento con estas variables seleccionadas y se realizó la predicción en los datos de prueba. Posteriormente, se calculó el valor de R cuadrada para medir la capacidad predictiva del modelo."
      ],
      "metadata": {
        "id": "FvuUGvW-LkG2"
      }
    },
    {
      "cell_type": "code",
      "source": [
        "# Filtrar las variables seleccionadas en los datos de entrenamiento y prueba\n",
        "train_x_selected_b = train_x[list(sfs_b.k_feature_names_)]\n",
        "test_x_selected_b = test_x[list(sfs_b.k_feature_names_)]\n",
        "\n",
        "# Entrenar el modelo con las variables seleccionadas\n",
        "est.fit(train_x_selected_b, train_y)\n",
        "\n",
        "# Hacer predicciones en los datos de prueba\n",
        "y_pred_b = est.predict(test_x_selected_b)\n",
        "\n",
        "# Calcular R² para este modelo\n",
        "r2_backward = r2_score(test_y, y_pred_b)\n",
        "print(\"R² del modelo con selección hacia atrás:\", r2_backward)"
      ],
      "metadata": {
        "colab": {
          "base_uri": "https://localhost:8080/"
        },
        "id": "9ibaV2VYLkqa",
        "outputId": "87e44669-c551-4fc7-a67b-674cd5ee0ec2"
      },
      "execution_count": 23,
      "outputs": [
        {
          "output_type": "stream",
          "name": "stdout",
          "text": [
            "R² del modelo con selección hacia atrás: 0.3958889666765396\n"
          ]
        }
      ]
    },
    {
      "cell_type": "code",
      "source": [
        "print(\"\\n--- Comparación de Modelos ---\")\n",
        "print(f\"R² del modelo con selección hacia adelante: {r2_forward}\")\n",
        "print(f\"R² del modelo con selección hacia atrás: {r2_backward}\")\n",
        "\n",
        "if r2_backward > r2_forward:\n",
        "    print(\"El modelo con selección hacia atrás tiene un mejor R², lo que sugiere que eliminar algunas variables mejoró la predicción.\")\n",
        "elif r2_backward < r2_forward:\n",
        "    print(\"El modelo con selección hacia adelante tiene un mejor R², lo que sugiere que incluir más variables ayudó a la predicción en este caso.\")\n",
        "else:\n",
        "    print(\"Ambos modelos tienen la misma capacidad predictiva, por lo que eliminar variables no afectó el desempeño.\")\n"
      ],
      "metadata": {
        "colab": {
          "base_uri": "https://localhost:8080/"
        },
        "id": "F6ixAMABr2LF",
        "outputId": "c9ab10c4-804c-473b-a6bb-57a0549a3d7b"
      },
      "execution_count": 24,
      "outputs": [
        {
          "output_type": "stream",
          "name": "stdout",
          "text": [
            "\n",
            "--- Comparación de Modelos ---\n",
            "R² del modelo con selección hacia adelante: 0.4012628835440285\n",
            "R² del modelo con selección hacia atrás: 0.3958889666765396\n",
            "El modelo con selección hacia adelante tiene un mejor R², lo que sugiere que incluir más variables ayudó a la predicción en este caso.\n"
          ]
        }
      ]
    },
    {
      "cell_type": "markdown",
      "source": [
        "Al analizar ambos modelos, se observa que la diferencia en los valores de R² es muy pequeña, lo que sugiere que la capacidad predictiva no cambia considerablemente al realizar la selección hacia adelante o hacia atrás. Aunque el modelo con selección hacia adelante incluye más variables, lo que podría parecer ventajoso a primera vista, el modelo con selección hacia atrás elimina algunas variables innecesarias, lo que lo hace más eficiente.\n",
        "\n",
        "Dado que ambos modelos logran resultados similares en términos de R², creo que el modelo con selección hacia atrás sería la mejor opción. Esto se debe a que, al reducir la cantidad de variables, se optimiza el proceso, haciéndolo más rápido y menos pesado en términos computacionales. Además, al eliminar variables que no aportan mucho a la predicción, el modelo tiende a generalizar mejor, lo que podría reducir el riesgo de sobreajuste."
      ],
      "metadata": {
        "id": "cnA2x2x9tsER"
      }
    }
  ]
}